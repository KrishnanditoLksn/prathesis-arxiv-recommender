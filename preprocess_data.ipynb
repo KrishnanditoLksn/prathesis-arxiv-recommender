{
 "cells": [
  {
   "cell_type": "code",
   "execution_count": 1,
   "id": "2129d9ab",
   "metadata": {},
   "outputs": [
    {
     "data": {
      "text/html": [
       "<div>\n",
       "<style scoped>\n",
       "    .dataframe tbody tr th:only-of-type {\n",
       "        vertical-align: middle;\n",
       "    }\n",
       "\n",
       "    .dataframe tbody tr th {\n",
       "        vertical-align: top;\n",
       "    }\n",
       "\n",
       "    .dataframe thead th {\n",
       "        text-align: right;\n",
       "    }\n",
       "</style>\n",
       "<table border=\"1\" class=\"dataframe\">\n",
       "  <thead>\n",
       "    <tr style=\"text-align: right;\">\n",
       "      <th></th>\n",
       "      <th>id</th>\n",
       "      <th>title</th>\n",
       "      <th>abstract</th>\n",
       "      <th>categories</th>\n",
       "      <th>author</th>\n",
       "      <th>doi</th>\n",
       "      <th>comments</th>\n",
       "    </tr>\n",
       "  </thead>\n",
       "  <tbody>\n",
       "    <tr>\n",
       "      <th>0</th>\n",
       "      <td>704.0001</td>\n",
       "      <td>Calculation of prompt diphoton production cros...</td>\n",
       "      <td>A fully differential calculation in perturba...</td>\n",
       "      <td>hep-ph</td>\n",
       "      <td>C. Bal\\'azs, E. L. Berger, P. M. Nadolsky, C.-...</td>\n",
       "      <td>10.1103/PhysRevD.76.013009</td>\n",
       "      <td>37 pages, 15 figures; published version</td>\n",
       "    </tr>\n",
       "    <tr>\n",
       "      <th>1</th>\n",
       "      <td>704.0002</td>\n",
       "      <td>Sparsity-certifying Graph Decompositions</td>\n",
       "      <td>We describe a new algorithm, the $(k,\\ell)$-...</td>\n",
       "      <td>math.CO cs.CG</td>\n",
       "      <td>Ileana Streinu and Louis Theran</td>\n",
       "      <td>NaN</td>\n",
       "      <td>To appear in Graphs and Combinatorics</td>\n",
       "    </tr>\n",
       "    <tr>\n",
       "      <th>2</th>\n",
       "      <td>704.0003</td>\n",
       "      <td>The evolution of the Earth-Moon system based o...</td>\n",
       "      <td>The evolution of Earth-Moon system is descri...</td>\n",
       "      <td>physics.gen-ph</td>\n",
       "      <td>Hongjun Pan</td>\n",
       "      <td>NaN</td>\n",
       "      <td>23 pages, 3 figures</td>\n",
       "    </tr>\n",
       "    <tr>\n",
       "      <th>3</th>\n",
       "      <td>704.0004</td>\n",
       "      <td>A determinant of Stirling cycle numbers counts...</td>\n",
       "      <td>We show that a determinant of Stirling cycle...</td>\n",
       "      <td>math.CO</td>\n",
       "      <td>David Callan</td>\n",
       "      <td>NaN</td>\n",
       "      <td>11 pages</td>\n",
       "    </tr>\n",
       "    <tr>\n",
       "      <th>4</th>\n",
       "      <td>704.0005</td>\n",
       "      <td>From dyadic $\\Lambda_{\\alpha}$ to $\\Lambda_{\\a...</td>\n",
       "      <td>In this paper we show how to compute the $\\L...</td>\n",
       "      <td>math.CA math.FA</td>\n",
       "      <td>Wael Abu-Shammala and Alberto Torchinsky</td>\n",
       "      <td>NaN</td>\n",
       "      <td>NaN</td>\n",
       "    </tr>\n",
       "    <tr>\n",
       "      <th>...</th>\n",
       "      <td>...</td>\n",
       "      <td>...</td>\n",
       "      <td>...</td>\n",
       "      <td>...</td>\n",
       "      <td>...</td>\n",
       "      <td>...</td>\n",
       "      <td>...</td>\n",
       "    </tr>\n",
       "    <tr>\n",
       "      <th>49995</th>\n",
       "      <td>802.2698</td>\n",
       "      <td>Casimir-Polder force between an atom and a die...</td>\n",
       "      <td>The low-temperature behavior of the Casimir-...</td>\n",
       "      <td>quant-ph</td>\n",
       "      <td>G. L. Klimchitskaya, U. Mohideen, V. M. Mostep...</td>\n",
       "      <td>10.1088/1751-8113/41/43/432001</td>\n",
       "      <td>10 pages, 1 figure; improved discussion; to ap...</td>\n",
       "    </tr>\n",
       "    <tr>\n",
       "      <th>49996</th>\n",
       "      <td>802.2699</td>\n",
       "      <td>Repelling Random Walkers in a Diffusion-Coales...</td>\n",
       "      <td>We have shown that the steady state probabil...</td>\n",
       "      <td>cond-mat.stat-mech</td>\n",
       "      <td>F. H. Jafarpour and S. R. Masharian</td>\n",
       "      <td>10.1103/PhysRevE.77.031115</td>\n",
       "      <td>5 pages, 1 EPS figure, Accepted for publicatio...</td>\n",
       "    </tr>\n",
       "    <tr>\n",
       "      <th>49997</th>\n",
       "      <td>802.2700</td>\n",
       "      <td>The cobordism class of the moduli space of pol...</td>\n",
       "      <td>For any vector $r=(r_1,..., r_n)$, let $M_r$...</td>\n",
       "      <td>math.SG</td>\n",
       "      <td>Alessia Mandini</td>\n",
       "      <td>NaN</td>\n",
       "      <td>29 pages, 8 figures, Remark 9 added, circle ac...</td>\n",
       "    </tr>\n",
       "    <tr>\n",
       "      <th>49998</th>\n",
       "      <td>802.2701</td>\n",
       "      <td>Authentication over Noisy Channels</td>\n",
       "      <td>In this work, message authentication over no...</td>\n",
       "      <td>cs.IT cs.CR math.IT</td>\n",
       "      <td>Lifeng Lai, Hesham El Gamal and H. Vincent Poor</td>\n",
       "      <td>NaN</td>\n",
       "      <td>Appeared in the Proceedings of the 45th Annual...</td>\n",
       "    </tr>\n",
       "    <tr>\n",
       "      <th>49999</th>\n",
       "      <td>802.2702</td>\n",
       "      <td>Inclusive 1-jet Production Cross Section at Sm...</td>\n",
       "      <td>We study corrections due to two Pomeron exch...</td>\n",
       "      <td>hep-ph</td>\n",
       "      <td>J. Bartels, M. Salvadore and G.P. Vacca</td>\n",
       "      <td>10.1088/1126-6708/2008/06/032</td>\n",
       "      <td>42 pages, 22 figures, few references and comme...</td>\n",
       "    </tr>\n",
       "  </tbody>\n",
       "</table>\n",
       "<p>50000 rows × 7 columns</p>\n",
       "</div>"
      ],
      "text/plain": [
       "             id                                              title  \\\n",
       "0      704.0001  Calculation of prompt diphoton production cros...   \n",
       "1      704.0002           Sparsity-certifying Graph Decompositions   \n",
       "2      704.0003  The evolution of the Earth-Moon system based o...   \n",
       "3      704.0004  A determinant of Stirling cycle numbers counts...   \n",
       "4      704.0005  From dyadic $\\Lambda_{\\alpha}$ to $\\Lambda_{\\a...   \n",
       "...         ...                                                ...   \n",
       "49995  802.2698  Casimir-Polder force between an atom and a die...   \n",
       "49996  802.2699  Repelling Random Walkers in a Diffusion-Coales...   \n",
       "49997  802.2700  The cobordism class of the moduli space of pol...   \n",
       "49998  802.2701                 Authentication over Noisy Channels   \n",
       "49999  802.2702  Inclusive 1-jet Production Cross Section at Sm...   \n",
       "\n",
       "                                                abstract           categories  \\\n",
       "0        A fully differential calculation in perturba...               hep-ph   \n",
       "1        We describe a new algorithm, the $(k,\\ell)$-...        math.CO cs.CG   \n",
       "2        The evolution of Earth-Moon system is descri...       physics.gen-ph   \n",
       "3        We show that a determinant of Stirling cycle...              math.CO   \n",
       "4        In this paper we show how to compute the $\\L...      math.CA math.FA   \n",
       "...                                                  ...                  ...   \n",
       "49995    The low-temperature behavior of the Casimir-...             quant-ph   \n",
       "49996    We have shown that the steady state probabil...   cond-mat.stat-mech   \n",
       "49997    For any vector $r=(r_1,..., r_n)$, let $M_r$...              math.SG   \n",
       "49998    In this work, message authentication over no...  cs.IT cs.CR math.IT   \n",
       "49999    We study corrections due to two Pomeron exch...               hep-ph   \n",
       "\n",
       "                                                  author  \\\n",
       "0      C. Bal\\'azs, E. L. Berger, P. M. Nadolsky, C.-...   \n",
       "1                        Ileana Streinu and Louis Theran   \n",
       "2                                            Hongjun Pan   \n",
       "3                                           David Callan   \n",
       "4               Wael Abu-Shammala and Alberto Torchinsky   \n",
       "...                                                  ...   \n",
       "49995  G. L. Klimchitskaya, U. Mohideen, V. M. Mostep...   \n",
       "49996                F. H. Jafarpour and S. R. Masharian   \n",
       "49997                                    Alessia Mandini   \n",
       "49998    Lifeng Lai, Hesham El Gamal and H. Vincent Poor   \n",
       "49999            J. Bartels, M. Salvadore and G.P. Vacca   \n",
       "\n",
       "                                  doi  \\\n",
       "0          10.1103/PhysRevD.76.013009   \n",
       "1                                 NaN   \n",
       "2                                 NaN   \n",
       "3                                 NaN   \n",
       "4                                 NaN   \n",
       "...                               ...   \n",
       "49995  10.1088/1751-8113/41/43/432001   \n",
       "49996      10.1103/PhysRevE.77.031115   \n",
       "49997                             NaN   \n",
       "49998                             NaN   \n",
       "49999   10.1088/1126-6708/2008/06/032   \n",
       "\n",
       "                                                comments  \n",
       "0                37 pages, 15 figures; published version  \n",
       "1                  To appear in Graphs and Combinatorics  \n",
       "2                                    23 pages, 3 figures  \n",
       "3                                               11 pages  \n",
       "4                                                    NaN  \n",
       "...                                                  ...  \n",
       "49995  10 pages, 1 figure; improved discussion; to ap...  \n",
       "49996  5 pages, 1 EPS figure, Accepted for publicatio...  \n",
       "49997  29 pages, 8 figures, Remark 9 added, circle ac...  \n",
       "49998  Appeared in the Proceedings of the 45th Annual...  \n",
       "49999  42 pages, 22 figures, few references and comme...  \n",
       "\n",
       "[50000 rows x 7 columns]"
      ]
     },
     "execution_count": 1,
     "metadata": {},
     "output_type": "execute_result"
    }
   ],
   "source": [
    "import pandas as pd\n",
    "import re\n",
    "import openpyxl\n",
    "\n",
    "datas = pd.read_csv('./dataset/arxiv_snapshotss.csv')\n",
    "datas"
   ]
  },
  {
   "cell_type": "code",
   "execution_count": 2,
   "id": "29d5c4f1",
   "metadata": {},
   "outputs": [],
   "source": [
    "datas['abstract'] = datas['abstract'].astype('string')"
   ]
  },
  {
   "cell_type": "code",
   "execution_count": 3,
   "id": "261dc258",
   "metadata": {},
   "outputs": [],
   "source": [
    "datas['abstract'] = datas['abstract'].str.lower()"
   ]
  },
  {
   "cell_type": "code",
   "execution_count": 4,
   "id": "01db9947",
   "metadata": {},
   "outputs": [
    {
     "data": {
      "text/plain": [
       "0          a fully differential calculation in perturba...\n",
       "1          we describe a new algorithm, the $(k,\\ell)$-...\n",
       "2          the evolution of earth-moon system is descri...\n",
       "3          we show that a determinant of stirling cycle...\n",
       "4          in this paper we show how to compute the $\\l...\n",
       "                               ...                        \n",
       "49995      the low-temperature behavior of the casimir-...\n",
       "49996      we have shown that the steady state probabil...\n",
       "49997      for any vector $r=(r_1,..., r_n)$, let $m_r$...\n",
       "49998      in this work, message authentication over no...\n",
       "49999      we study corrections due to two pomeron exch...\n",
       "Name: abstract, Length: 50000, dtype: string"
      ]
     },
     "execution_count": 4,
     "metadata": {},
     "output_type": "execute_result"
    }
   ],
   "source": [
    "datas['abstract']"
   ]
  },
  {
   "cell_type": "code",
   "execution_count": 5,
   "id": "8f015309",
   "metadata": {},
   "outputs": [],
   "source": [
    "def remove_latex_formulas(abstract_series: pd.Series):\n",
    "    for i in range(len(abstract_series)):\n",
    "        text = str(abstract_series.iloc[i])\n",
    "\n",
    "        text = re.sub(r'\\$.*?\\$', '', text)\n",
    "        text = re.sub(r'\\$\\$[\\s\\S]*?\\$\\$', '', text)\n",
    "        text = re.sub(r'\\\\\\[[\\s\\S]*?\\\\\\]', '', text)\n",
    "        text = re.sub(r'\\\\begin\\{equation\\}[\\s\\S]*?\\\\end\\{equation\\}', '', text)\n",
    "\n",
    "        abstract_series.iloc[i] = text.strip()\n",
    "    return abstract_series"
   ]
  },
  {
   "cell_type": "code",
   "execution_count": 6,
   "id": "23575945",
   "metadata": {},
   "outputs": [],
   "source": [
    "datas['abstract']= remove_latex_formulas(datas['abstract'])"
   ]
  },
  {
   "cell_type": "code",
   "execution_count": 7,
   "id": "0436f577",
   "metadata": {},
   "outputs": [
    {
     "data": {
      "text/plain": [
       "0        a fully differential calculation in perturbati...\n",
       "1        we describe a new algorithm, the -pebble game ...\n",
       "2        the evolution of earth-moon system is describe...\n",
       "3        we show that a determinant of stirling cycle n...\n",
       "4        in this paper we show how to compute the  norm...\n",
       "                               ...                        \n",
       "49995    the low-temperature behavior of the casimir-po...\n",
       "49996    we have shown that the steady state probabilit...\n",
       "49997    for any vector , let  denote the moduli space ...\n",
       "49998    in this work, message authentication over nois...\n",
       "49999    we study corrections due to two pomeron exchan...\n",
       "Name: abstract, Length: 50000, dtype: string"
      ]
     },
     "execution_count": 7,
     "metadata": {},
     "output_type": "execute_result"
    }
   ],
   "source": [
    "datas['abstract']"
   ]
  },
  {
   "cell_type": "code",
   "execution_count": 8,
   "id": "27a9e463",
   "metadata": {},
   "outputs": [],
   "source": [
    "datas['abstract'] = datas['abstract'].str.lower()"
   ]
  },
  {
   "cell_type": "code",
   "execution_count": 9,
   "id": "75286dbc",
   "metadata": {},
   "outputs": [
    {
     "data": {
      "text/plain": [
       "0        a fully differential calculation in perturbati...\n",
       "1        we describe a new algorithm, the -pebble game ...\n",
       "2        the evolution of earth-moon system is describe...\n",
       "3        we show that a determinant of stirling cycle n...\n",
       "4        in this paper we show how to compute the  norm...\n",
       "                               ...                        \n",
       "49995    the low-temperature behavior of the casimir-po...\n",
       "49996    we have shown that the steady state probabilit...\n",
       "49997    for any vector , let  denote the moduli space ...\n",
       "49998    in this work, message authentication over nois...\n",
       "49999    we study corrections due to two pomeron exchan...\n",
       "Name: abstract, Length: 50000, dtype: string"
      ]
     },
     "execution_count": 9,
     "metadata": {},
     "output_type": "execute_result"
    }
   ],
   "source": [
    "datas['abstract']"
   ]
  },
  {
   "cell_type": "code",
   "execution_count": 10,
   "id": "c3bdfbf6",
   "metadata": {},
   "outputs": [],
   "source": [
    "def remove_hypen(abstract_series:pd.Series):\n",
    "    return abstract_series.apply(lambda text: re.sub(r'[^\\w\\s]', '', str(text)))"
   ]
  },
  {
   "cell_type": "code",
   "execution_count": 11,
   "id": "44d38283",
   "metadata": {},
   "outputs": [],
   "source": [
    "datas['abstract']= remove_hypen(datas['abstract'])"
   ]
  },
  {
   "cell_type": "code",
   "execution_count": 12,
   "id": "ff592f57",
   "metadata": {},
   "outputs": [
    {
     "data": {
      "text/plain": [
       "0        a fully differential calculation in perturbati...\n",
       "1        we describe a new algorithm the pebble game wi...\n",
       "2        the evolution of earthmoon system is described...\n",
       "3        we show that a determinant of stirling cycle n...\n",
       "4        in this paper we show how to compute the  norm...\n",
       "                               ...                        \n",
       "49995    the lowtemperature behavior of the casimirpold...\n",
       "49996    we have shown that the steady state probabilit...\n",
       "49997    for any vector  let  denote the moduli space u...\n",
       "49998    in this work message authentication over noisy...\n",
       "49999    we study corrections due to two pomeron exchan...\n",
       "Name: abstract, Length: 50000, dtype: object"
      ]
     },
     "execution_count": 12,
     "metadata": {},
     "output_type": "execute_result"
    }
   ],
   "source": [
    "datas['abstract']"
   ]
  },
  {
   "cell_type": "code",
   "execution_count": 13,
   "id": "3391c26f",
   "metadata": {},
   "outputs": [],
   "source": [
    "arxiv_paper = pd.DataFrame(datas['abstract'])\n",
    "file_name=\"arxiv_paper.xlsx\"\n",
    "\n",
    "arxiv_paper.to_csv(\"arxiv_new.csv\")\n",
    "arxiv_paper.to_excel(file_name)"
   ]
  }
 ],
 "metadata": {
  "kernelspec": {
   "display_name": "Python 3",
   "language": "python",
   "name": "python3"
  },
  "language_info": {
   "codemirror_mode": {
    "name": "ipython",
    "version": 3
   },
   "file_extension": ".py",
   "mimetype": "text/x-python",
   "name": "python",
   "nbconvert_exporter": "python",
   "pygments_lexer": "ipython3",
   "version": "3.12.8"
  }
 },
 "nbformat": 4,
 "nbformat_minor": 5
}
